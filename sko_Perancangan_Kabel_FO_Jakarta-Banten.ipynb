{
  "nbformat": 4,
  "nbformat_minor": 0,
  "metadata": {
    "colab": {
      "name": "fixsko.ipynb",
      "provenance": [],
      "authorship_tag": "ABX9TyMApBsJKLivpL4ITiQoMwWf",
      "include_colab_link": true
    },
    "kernelspec": {
      "name": "python3",
      "display_name": "Python 3"
    }
  },
  "cells": [
    {
      "cell_type": "markdown",
      "metadata": {
        "id": "view-in-github",
        "colab_type": "text"
      },
      "source": [
        "<a href=\"https://colab.research.google.com/github/zamroni552/Pemograman-Python/blob/main/sko_Perancangan_Kabel_FO_Jakarta-Banten.ipynb\" target=\"_parent\"><img src=\"https://colab.research.google.com/assets/colab-badge.svg\" alt=\"Open In Colab\"/></a>"
      ]
    },
    {
      "cell_type": "code",
      "metadata": {
        "id": "BiBT7lavt-NP"
      },
      "source": [
        "from math import log10, sqrt\r\n",
        "import numpy as np\r\n",
        "import matplotlib.pyplot as plt"
      ],
      "execution_count": null,
      "outputs": []
    },
    {
      "cell_type": "code",
      "metadata": {
        "id": "rwo_oMgVuDsS"
      },
      "source": [
        "L=154 #km\r\n",
        "Hspl=2 #km\r\n",
        "disp_M= 3.5e-12 #s/km.nm\r\n",
        "alpha_f=0.2 #dB/km"
      ],
      "execution_count": null,
      "outputs": []
    },
    {
      "cell_type": "code",
      "metadata": {
        "id": "-nIjA3kHuMVv"
      },
      "source": [
        "Ptx=8 #mw\r\n",
        "Ptx_db= 10*log10(Ptx)\r\n",
        "spektral=0.1 #nm\r\n",
        "t_tx=6e-11 #s\r\n",
        "Mod_NRZ=0.7 #NRZ\r\n",
        "Mod_RZ=0.35 #RZ\r\n",
        "Br= 2.5e9 #2.5 Gbps\r\n",
        "Tb=1/Br #s"
      ],
      "execution_count": null,
      "outputs": []
    },
    {
      "cell_type": "code",
      "metadata": {
        "id": "KNlavncfuQbs"
      },
      "source": [
        "sensitivitas=-38\r\n",
        "t_rx=35e-12 #s"
      ],
      "execution_count": null,
      "outputs": []
    },
    {
      "cell_type": "code",
      "metadata": {
        "id": "sIb9y67xuWE8"
      },
      "source": [
        "N_c=2\r\n",
        "alpha_c=0.2 #0.2 dB/titik\r\n",
        "N_sp=(L/Hspl)-1\r\n",
        "alpha_sp=0.05 #dB/titik\r\n",
        "Ms=3"
      ],
      "execution_count": null,
      "outputs": []
    },
    {
      "cell_type": "code",
      "metadata": {
        "id": "jn496e5GueDX"
      },
      "source": [
        ""
      ],
      "execution_count": null,
      "outputs": []
    },
    {
      "cell_type": "code",
      "metadata": {
        "colab": {
          "base_uri": "https://localhost:8080/"
        },
        "id": "yUJmmM_QueI9",
        "outputId": "2875008f-2553-478b-d98e-4647f7e2bfb6"
      },
      "source": [
        "def nilaialpha(N_c,alpha_c,N_sp,alpha_sp,L,alpha_f,Ms,sensitivitas):\r\n",
        "  alpha_z=N_c*alpha_c+N_sp*alpha_sp+L*alpha_f+Ms\r\n",
        "  Prx=Ptx_db-alpha_z\r\n",
        "\r\n",
        "  if Prx > sensitivitas:\r\n",
        "    c='LPB,terpenuhi'\r\n",
        "  else:\r\n",
        "    c='Hitung Ulang!!!'\r\n",
        "  return alpha_z,Prx,c\r\n",
        "s,s1,c=nilaialpha(N_c,alpha_c,N_sp,alpha_sp,L,alpha_f,Ms,sensitivitas)\r\n",
        "\r\n",
        "print(\"Redaman Kabel\",s,'\\n')\r\n",
        "print(s1,'\\n')\r\n",
        "print(c)"
      ],
      "execution_count": null,
      "outputs": [
        {
          "output_type": "stream",
          "text": [
            "Redaman Kabel 38.0 \n",
            "\n",
            "-28.969100130080562 \n",
            "\n",
            "LPB,terpenuhi\n"
          ],
          "name": "stdout"
        }
      ]
    },
    {
      "cell_type": "code",
      "metadata": {
        "colab": {
          "base_uri": "https://localhost:8080/"
        },
        "id": "X1-Wl0W1ufOW",
        "outputId": "df955168-df36-471d-80bf-698611dbe7c8"
      },
      "source": [
        "def nilaialpha(disp_M,L,spektral,Tb,Mod_RZ,Mod_NRZ):\r\n",
        "  t_mat=disp_M*L*spektral\r\n",
        "  t_wg=0\r\n",
        "  t_mod=0\r\n",
        "\r\n",
        "  t_sys=sqrt(t_tx**2+t_mat**2+t_mod**2+t_wg**2+t_rx**2)\r\n",
        "\r\n",
        "  if (Tb*Mod_NRZ>t_sys) & (Tb*Mod_RZ>t_sys):\r\n",
        "    d='RTB, terpenuhi'\r\n",
        "  elif Tb*Mod_NRZ > t_sys:\r\n",
        "    d='RTB untuk NRZ, terpenuhi'\r\n",
        "  elif Tb*Mod_RZ > t_sys:\r\n",
        "    d='RTB untuk RZ, terpenuhi'\r\n",
        "  else:\r\n",
        "    d='Hitung Ulang!!!'\r\n",
        "  return t_sys,d\r\n",
        "\r\n",
        "t_sys,d=nilaialpha(disp_M,L,spektral,Tb,Mod_NRZ,Mod_RZ)\r\n",
        "print(t_sys,'\\n')\r\n",
        "print(d)"
      ],
      "execution_count": null,
      "outputs": [
        {
          "output_type": "stream",
          "text": [
            "8.792161281505248e-11 \n",
            "\n",
            "RTB, terpenuhi\n"
          ],
          "name": "stdout"
        }
      ]
    }
  ]
}