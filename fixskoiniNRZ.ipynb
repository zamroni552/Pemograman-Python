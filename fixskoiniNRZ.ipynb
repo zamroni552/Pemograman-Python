{
  "nbformat": 4,
  "nbformat_minor": 0,
  "metadata": {
    "colab": {
      "name": "fixsko.ipynb",
      "provenance": [],
      "authorship_tag": "ABX9TyNjmbRhWKI0eVN/5cbtDe1+",
      "include_colab_link": true
    },
    "kernelspec": {
      "name": "python3",
      "display_name": "Python 3"
    }
  },
  "cells": [
    {
      "cell_type": "markdown",
      "metadata": {
        "id": "view-in-github",
        "colab_type": "text"
      },
      "source": [
        "<a href=\"https://colab.research.google.com/github/zamroni552/Pemograman-Python/blob/main/fixskoiniNRZ.ipynb\" target=\"_parent\"><img src=\"https://colab.research.google.com/assets/colab-badge.svg\" alt=\"Open In Colab\"/></a>"
      ]
    },
    {
      "cell_type": "code",
      "metadata": {
        "id": "BiBT7lavt-NP"
      },
      "source": [
        "from math import log10, sqrt\r\n",
        "import numpy as np\r\n",
        "import matplotlib.pyplot as plt"
      ],
      "execution_count": 125,
      "outputs": []
    },
    {
      "cell_type": "code",
      "metadata": {
        "id": "rwo_oMgVuDsS"
      },
      "source": [
        "L= 154 #km\r\n",
        "Hspl=2 #km\r\n",
        "disp_M= 17e-12 #s/km.nm\r\n",
        "alpha_f=0.2 #dB/km"
      ],
      "execution_count": 126,
      "outputs": []
    },
    {
      "cell_type": "code",
      "metadata": {
        "id": "-nIjA3kHuMVv"
      },
      "source": [
        "Ptx=8 #mw\r\n",
        "Ptx_db= 10*log10(Ptx)\r\n",
        "spektral=0.1 #nm\r\n",
        "t_tx=35e-12 #s\r\n",
        "Mod_NRZ=0.7 #NRZ\r\n",
        "Mod_RZ=0.35 #RZ\r\n",
        "Br= 2.5e9 #2.5 Gbps\r\n",
        "Tb=1/Br #s"
      ],
      "execution_count": 127,
      "outputs": []
    },
    {
      "cell_type": "code",
      "metadata": {
        "id": "KNlavncfuQbs"
      },
      "source": [
        "\r\n",
        "sensitivitas=-38\r\n",
        "t_rx=35e-12 #s"
      ],
      "execution_count": 128,
      "outputs": []
    },
    {
      "cell_type": "code",
      "metadata": {
        "id": "sIb9y67xuWE8"
      },
      "source": [
        "N_c=2\r\n",
        "alpha_c=0.2 #0.2 dB/titik\r\n",
        "N_sp=(L/Hspl)-1\r\n",
        "alpha_sp=0.05 #dB/titik\r\n",
        "Ms=3"
      ],
      "execution_count": 129,
      "outputs": []
    },
    {
      "cell_type": "code",
      "metadata": {
        "colab": {
          "base_uri": "https://localhost:8080/"
        },
        "id": "yUJmmM_QueI9",
        "outputId": "f028c1f4-e738-498c-9e3a-39735eb88a01"
      },
      "source": [
        "def nilaialpha(N_c,alpha_c,N_sp,alpha_sp,L,alpha_f,Ms,sensitivitas):\r\n",
        "  alpha_z=N_c*alpha_c+N_sp*alpha_sp+L*alpha_f+Ms\r\n",
        "  Prx=Ptx_db-alpha_z\r\n",
        "\r\n",
        "  if Prx > sensitivitas:\r\n",
        "    c='LPB,terpenuhi'\r\n",
        "  else:\r\n",
        "    c='Hitung Ulang!!!'\r\n",
        "  return alpha_z,Prx,c\r\n",
        "s,s1,c=nilaialpha(N_c,alpha_c,N_sp,alpha_sp,L,alpha_f,Ms,sensitivitas)\r\n",
        "\r\n",
        "print(\"Redaman Kabel\",s,'\\n')\r\n",
        "print(s1,'\\n')\r\n",
        "print(c)"
      ],
      "execution_count": 130,
      "outputs": [
        {
          "output_type": "stream",
          "text": [
            "Redaman Kabel 38.0 \n",
            "\n",
            "-28.969100130080562 \n",
            "\n",
            "LPB,terpenuhi\n"
          ],
          "name": "stdout"
        }
      ]
    },
    {
      "cell_type": "code",
      "metadata": {
        "colab": {
          "base_uri": "https://localhost:8080/"
        },
        "id": "X1-Wl0W1ufOW",
        "outputId": "409b63f8-dd85-4423-8e2b-89f5469dbe11"
      },
      "source": [
        "def nilaialpha(disp_M,L,spektral):\r\n",
        "  t_mat=disp_M*L*spektral\r\n",
        "  t_wg=0\r\n",
        "  t_mod=0\r\n",
        "\r\n",
        "  t_sys=sqrt(t_tx**2+t_mat**2+t_mod**2+t_wg**2+t_rx**2)\r\n",
        "  \r\n",
        "  if (Tb*Mod_NRZ > t_sys) & (Tb*Mod_RZ > t_sys) :\r\n",
        "    d=\"RTB, terpenuhi\"\r\n",
        "  elif Tb*Mod_NRZ > t_sys :\r\n",
        "    d=\"RTB untuk NRZ, terpenuhi\"\r\n",
        "  elif Tb*Mod_RZ > t_sys :\r\n",
        "    d=\"RTB untuk RZ, terpenuhi\"\r\n",
        "  else:\r\n",
        "    d=\"Hitung Ulang !!\"\r\n",
        "  return t_sys,d\r\n",
        "\r\n",
        "a,d=nilaialpha(disp_M,L,spektral)\r\n",
        "print(a)\r\n",
        "print(d)"
      ],
      "execution_count": 131,
      "outputs": [
        {
          "output_type": "stream",
          "text": [
            "2.664380603442384e-10\n",
            "RTB untuk NRZ, terpenuhi\n"
          ],
          "name": "stdout"
        }
      ]
    },
    {
      "cell_type": "code",
      "metadata": {
        "id": "07v5yBdxTVgn"
      },
      "source": [
        ""
      ],
      "execution_count": 131,
      "outputs": []
    }
  ]
}