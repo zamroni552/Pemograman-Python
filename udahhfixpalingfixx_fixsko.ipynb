{
  "nbformat": 4,
  "nbformat_minor": 0,
  "metadata": {
    "colab": {
      "name": "palingfixx_fixsko.ipynb",
      "provenance": [],
      "authorship_tag": "ABX9TyOUT5C+aPxD8FCxHDYo5e7X",
      "include_colab_link": true
    },
    "kernelspec": {
      "name": "python3",
      "display_name": "Python 3"
    }
  },
  "cells": [
    {
      "cell_type": "markdown",
      "metadata": {
        "id": "view-in-github",
        "colab_type": "text"
      },
      "source": [
        "<a href=\"https://colab.research.google.com/github/zamroni552/Pemograman-Python/blob/main/udahhfixpalingfixx_fixsko.ipynb\" target=\"_parent\"><img src=\"https://colab.research.google.com/assets/colab-badge.svg\" alt=\"Open In Colab\"/></a>"
      ]
    },
    {
      "cell_type": "code",
      "metadata": {
        "id": "BiBT7lavt-NP"
      },
      "source": [
        "from math import log10, sqrt\r\n",
        "import numpy as np\r\n",
        "import matplotlib.pyplot as plt"
      ],
      "execution_count": 12,
      "outputs": []
    },
    {
      "cell_type": "code",
      "metadata": {
        "id": "rwo_oMgVuDsS"
      },
      "source": [
        "#---Kabel FO G.652 - SI-SM\r\n",
        "L=154 #km\r\n",
        "L1= np.arange(1,155,1)\r\n",
        "Hspl=2 #km\r\n",
        "disp_M= 6e-12 #s/km.nm\r\n",
        "alpha_f=0.2 #dB/km"
      ],
      "execution_count": 13,
      "outputs": []
    },
    {
      "cell_type": "code",
      "metadata": {
        "id": "-nIjA3kHuMVv"
      },
      "source": [
        "#---Sepesifikasi Pengirim \r\n",
        "Ptx=8 #mw\r\n",
        "Ptx_db= 10*log10(Ptx)\r\n",
        "spektral=0.1 #nm\r\n",
        "t_tx=6e-11 #s\r\n",
        "Mod_NRZ=0.7 #NRZ\r\n",
        "Mod_RZ=0.35 #RZ\r\n",
        "Br= 2.4e9 #2.4 Gbps\r\n",
        "Tb=1/Br #s"
      ],
      "execution_count": 14,
      "outputs": []
    },
    {
      "cell_type": "code",
      "metadata": {
        "id": "KNlavncfuQbs"
      },
      "source": [
        "#---Sepesifikasi Penerima \r\n",
        "sensitivitas=-38\r\n",
        "t_rx=35e-12 #s"
      ],
      "execution_count": 15,
      "outputs": []
    },
    {
      "cell_type": "code",
      "metadata": {
        "id": "sIb9y67xuWE8"
      },
      "source": [
        "#---Spesifikasi Kanal\r\n",
        "N_c=2\r\n",
        "alpha_c=0.2 #0.2 dB/titik\r\n",
        "N_sp=(L/Hspl)-1\r\n",
        "alpha_sp=0.05 #dB/titik\r\n",
        "Ms=3 #dB"
      ],
      "execution_count": 16,
      "outputs": []
    },
    {
      "cell_type": "code",
      "metadata": {
        "colab": {
          "base_uri": "https://localhost:8080/",
          "height": 0
        },
        "id": "yUJmmM_QueI9",
        "outputId": "570764ca-8335-4a22-9602-b30d857570b5"
      },
      "source": [
        "def nilai(N_c,alpha_c,N_sp,alpha_sp,L,alpha_f,Ms):\r\n",
        "  alpha_z=N_c*alpha_c+N_sp*alpha_sp+L*alpha_f+Ms\r\n",
        "  Prx=Ptx_db-alpha_z\r\n",
        "\r\n",
        "  if Prx > sensitivitas:\r\n",
        "    c='LPB,terpenuhi'\r\n",
        "  else:\r\n",
        "    c='Hitung Ulang!!!'\r\n",
        "  return alpha_z,Prx,c\r\n",
        "s,s1,c=nilai(N_c,alpha_c,N_sp,alpha_sp,L,alpha_f,Ms)\r\n",
        "\r\n",
        "print(\"Redaman Kabel:\",s,'\\n')\r\n",
        "print(\"Daya Terima:\",s1,'\\n')\r\n",
        "print(c)"
      ],
      "execution_count": 17,
      "outputs": [
        {
          "output_type": "stream",
          "text": [
            "Redaman Kabel: 38.0 \n",
            "\n",
            "Daya Terima: -28.969100130080562 \n",
            "\n",
            "LPB,terpenuhi\n"
          ],
          "name": "stdout"
        }
      ]
    },
    {
      "cell_type": "code",
      "metadata": {
        "colab": {
          "base_uri": "https://localhost:8080/",
          "height": 0
        },
        "id": "X1-Wl0W1ufOW",
        "outputId": "fd2cb955-1248-4084-9f8a-4ef63d163d85"
      },
      "source": [
        "def nilai(disp_M,L,spektral):\r\n",
        "  t_mat=disp_M*L*spektral\r\n",
        "  t_wg=0\r\n",
        "  t_mod=0\r\n",
        "\r\n",
        "  t_sys=sqrt(t_tx**2+t_mat**2+t_mod**2+t_wg**2+t_rx**2)\r\n",
        "  \r\n",
        "  if (Tb*Mod_NRZ > t_sys) & (Tb*Mod_RZ > t_sys) :\r\n",
        "    d=\"RTB, terpenuhi\"\r\n",
        "  elif Tb*Mod_NRZ > t_sys :\r\n",
        "    d=\"RTB untuk NRZ, terpenuhi\"\r\n",
        "  elif Tb*Mod_RZ > t_sys :\r\n",
        "    d=\"RTB untuk RZ, terpenuhi\"\r\n",
        "  else:\r\n",
        "    d=\"Hitung Ulang !!\"\r\n",
        "  return t_sys,d\r\n",
        "\r\n",
        "a,d=nilai(disp_M,L,spektral)\r\n",
        "print(\"t_sys/Rise Time Sistem:\\n\",a,'\\n\\n')\r\n",
        "print(d)"
      ],
      "execution_count": 18,
      "outputs": [
        {
          "output_type": "stream",
          "text": [
            "t_sys/Rise Time Sistem:\n",
            " 1.1559740481516011e-10 \n",
            "\n",
            "\n",
            "RTB, terpenuhi\n"
          ],
          "name": "stdout"
        }
      ]
    },
    {
      "cell_type": "code",
      "metadata": {
        "id": "jOUDlPICsQ1n"
      },
      "source": [
        "def nilai1(N_c,alpha_c,N_sp,alpha_sp,L1,alpha_f,Ms,Ptx_db,disp_M,spektral):\r\n",
        "  alpha_z1=N_c*alpha_c+N_sp*alpha_sp+L1*alpha_f+Ms\r\n",
        "  Prx1=Ptx_db-alpha_z1\r\n",
        "  t_mat1=disp_M*L1*spektral\r\n",
        "  t_wg=0\r\n",
        "  t_mod=0\r\n",
        "\r\n",
        "  t_sys1=np.sqrt(t_tx**2+t_mat1**2+t_mod**2+t_wg**2+t_rx**2)\r\n",
        "\r\n",
        "  return alpha_z1,Prx1,t_sys1\r\n",
        "\r\n",
        "q,w,e=nilai1(N_c,alpha_c,N_sp,alpha_sp,L1,alpha_f,Ms,Ptx_db,disp_M,spektral)\r\n",
        "\r\n",
        "print(\"Redaman Kabel:\\n\",q,'\\n')\r\n",
        "print(\"Daya Terima:\\n\",w,'\\n')\r\n",
        "print(\"t_sys/Rise Time System:\\n\",e)"
      ],
      "execution_count": null,
      "outputs": []
    },
    {
      "cell_type": "code",
      "metadata": {
        "colab": {
          "base_uri": "https://localhost:8080/",
          "height": 295
        },
        "id": "PynQsPEVvOpJ",
        "outputId": "183a1ff2-acfc-49f3-e8d8-faef0dee136f"
      },
      "source": [
        "plt.plot(L1,w)\r\n",
        "plt.title('Kurva Link Power Budget')\r\n",
        "plt.xlabel('Jarak (km)')\r\n",
        "plt.ylabel('Daya terima (dB)')\r\n",
        "plt.show()"
      ],
      "execution_count": 20,
      "outputs": [
        {
          "output_type": "display_data",
          "data": {
            "image/png": "[encoded data removed]",
            "text/plain": [
              "<Figure size 432x288 with 1 Axes>"
            ]
          },
          "metadata": {
            "tags": [],
            "needs_background": "light"
          }
        }
      ]
    },
    {
      "cell_type": "code",
      "metadata": {
        "id": "Dwj15GROzGte",
        "colab": {
          "base_uri": "https://localhost:8080/",
          "height": 295
        },
        "outputId": "f7dc4cc0-01bc-4f19-df00-8ea859af4ed1"
      },
      "source": [
        "plt.plot(L1,e)\r\n",
        "plt.title('Rise Time Budget')\r\n",
        "plt.xlabel('Jarak (km)')\r\n",
        "plt.ylabel('Dispersi sistem (s)')\r\n",
        "plt.show()"
      ],
      "execution_count": 21,
      "outputs": [
        {
          "output_type": "display_data",
          "data": {
            "image/png": "[encoded data removed]",
            "text/plain": [
              "<Figure size 432x288 with 1 Axes>"
            ]
          },
          "metadata": {
            "tags": [],
            "needs_background": "light"
          }
        }
      ]
    }
  ]
}