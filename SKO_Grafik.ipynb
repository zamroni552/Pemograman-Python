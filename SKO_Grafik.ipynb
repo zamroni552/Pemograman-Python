{
  "nbformat": 4,
  "nbformat_minor": 0,
  "metadata": {
    "colab": {
      "name": "SKO Grafik.ipynb",
      "provenance": [],
      "collapsed_sections": [],
      "authorship_tag": "ABX9TyMxWuwLhOyofziMwp3H2w9q",
      "include_colab_link": true
    },
    "kernelspec": {
      "name": "python3",
      "display_name": "Python 3"
    }
  },
  "cells": [
    {
      "cell_type": "markdown",
      "metadata": {
        "id": "view-in-github",
        "colab_type": "text"
      },
      "source": [
        "<a href=\"https://colab.research.google.com/github/zamroni552/Pemograman-Python/blob/main/SKO_Grafik.ipynb\" target=\"_parent\"><img src=\"https://colab.research.google.com/assets/colab-badge.svg\" alt=\"Open In Colab\"/></a>"
      ]
    },
    {
      "cell_type": "code",
      "metadata": {
        "id": "RcIjDbv4v_Tz"
      },
      "source": [
        "from math import log10, sqrt\r\n",
        "import numpy as np\r\n",
        "import matplotlib.pyplot as plt\r\n",
        "\r\n"
      ],
      "execution_count": null,
      "outputs": []
    },
    {
      "cell_type": "code",
      "metadata": {
        "id": "oX2WIs5owFx4"
      },
      "source": [
        "L=np.arange(1,155,1) #km\r\n",
        "Hspl=2 #km\r\n",
        "disp_M= 3.5e-12 #s/km.nm\r\n",
        "alpha_f=0.2 #dB/km"
      ],
      "execution_count": null,
      "outputs": []
    },
    {
      "cell_type": "code",
      "metadata": {
        "id": "iVQxLuG3wXXy"
      },
      "source": [
        "Ptx=8 #mw\r\n",
        "Ptx_db= 10*log10(Ptx)\r\n",
        "spektral=0.1 #nm\r\n",
        "t_tx=6e-11 #s\r\n",
        "Mod_NRZ=0.7 #NRZ\r\n",
        "Mod_RZ=0.35 #RZ\r\n",
        "Br= 2.5e9 #2.5 Gbps\r\n",
        "Tb=1/Br #s"
      ],
      "execution_count": null,
      "outputs": []
    },
    {
      "cell_type": "code",
      "metadata": {
        "id": "vopuzO2Rwga-"
      },
      "source": [
        "sensitivitas=-38\r\n",
        "t_rx=35e-12 #s"
      ],
      "execution_count": null,
      "outputs": []
    },
    {
      "cell_type": "code",
      "metadata": {
        "id": "77tsFTu1wmXx"
      },
      "source": [
        "N_c=2\r\n",
        "alpha_c=0.2 #0.2 dB/titik\r\n",
        "N_sp=(L/Hspl)-1\r\n",
        "alpha_sp=0.05 #dB/titik\r\n",
        "Ms=3"
      ],
      "execution_count": null,
      "outputs": []
    },
    {
      "cell_type": "code",
      "metadata": {
        "colab": {
          "base_uri": "https://localhost:8080/"
        },
        "id": "9vQ2e83hwpG2",
        "outputId": "d8431eff-787b-4def-9f04-7b13a82b0a46"
      },
      "source": [
        "def nilaialpha(N_c,alpha_c,N_sp,alpha_sp,L,alpha_f,Ms):\r\n",
        "  alpha_z=N_c*alpha_c+N_sp*alpha_sp+L*alpha_f+Ms\r\n",
        "  Prx=Ptx_db-alpha_z\r\n",
        "\r\n",
        "  return alpha_z,Prx\r\n",
        "\r\n",
        "s,s1=nilaialpha(N_c,alpha_c,N_sp,alpha_sp,L,alpha_f,Ms)\r\n",
        "\r\n",
        "print(\"Redaman Kabel\",s,'\\n\\n')\r\n",
        "print(s1,'Daya Terima')\r\n"
      ],
      "execution_count": null,
      "outputs": [
        {
          "output_type": "stream",
          "text": [
            "Redaman Kabel [ 3.575  3.8    4.025  4.25   4.475  4.7    4.925  5.15   5.375  5.6\n",
            "  5.825  6.05   6.275  6.5    6.725  6.95   7.175  7.4    7.625  7.85\n",
            "  8.075  8.3    8.525  8.75   8.975  9.2    9.425  9.65   9.875 10.1\n",
            " 10.325 10.55  10.775 11.    11.225 11.45  11.675 11.9   12.125 12.35\n",
            " 12.575 12.8   13.025 13.25  13.475 13.7   13.925 14.15  14.375 14.6\n",
            " 14.825 15.05  15.275 15.5   15.725 15.95  16.175 16.4   16.625 16.85\n",
            " 17.075 17.3   17.525 17.75  17.975 18.2   18.425 18.65  18.875 19.1\n",
            " 19.325 19.55  19.775 20.    20.225 20.45  20.675 20.9   21.125 21.35\n",
            " 21.575 21.8   22.025 22.25  22.475 22.7   22.925 23.15  23.375 23.6\n",
            " 23.825 24.05  24.275 24.5   24.725 24.95  25.175 25.4   25.625 25.85\n",
            " 26.075 26.3   26.525 26.75  26.975 27.2   27.425 27.65  27.875 28.1\n",
            " 28.325 28.55  28.775 29.    29.225 29.45  29.675 29.9   30.125 30.35\n",
            " 30.575 30.8   31.025 31.25  31.475 31.7   31.925 32.15  32.375 32.6\n",
            " 32.825 33.05  33.275 33.5   33.725 33.95  34.175 34.4   34.625 34.85\n",
            " 35.075 35.3   35.525 35.75  35.975 36.2   36.425 36.65  36.875 37.1\n",
            " 37.325 37.55  37.775 38.   ] \n",
            "\n",
            "\n",
            "[  5.45589987   5.23089987   5.00589987   4.78089987   4.55589987\n",
            "   4.33089987   4.10589987   3.88089987   3.65589987   3.43089987\n",
            "   3.20589987   2.98089987   2.75589987   2.53089987   2.30589987\n",
            "   2.08089987   1.85589987   1.63089987   1.40589987   1.18089987\n",
            "   0.95589987   0.73089987   0.50589987   0.28089987   0.05589987\n",
            "  -0.16910013  -0.39410013  -0.61910013  -0.84410013  -1.06910013\n",
            "  -1.29410013  -1.51910013  -1.74410013  -1.96910013  -2.19410013\n",
            "  -2.41910013  -2.64410013  -2.86910013  -3.09410013  -3.31910013\n",
            "  -3.54410013  -3.76910013  -3.99410013  -4.21910013  -4.44410013\n",
            "  -4.66910013  -4.89410013  -5.11910013  -5.34410013  -5.56910013\n",
            "  -5.79410013  -6.01910013  -6.24410013  -6.46910013  -6.69410013\n",
            "  -6.91910013  -7.14410013  -7.36910013  -7.59410013  -7.81910013\n",
            "  -8.04410013  -8.26910013  -8.49410013  -8.71910013  -8.94410013\n",
            "  -9.16910013  -9.39410013  -9.61910013  -9.84410013 -10.06910013\n",
            " -10.29410013 -10.51910013 -10.74410013 -10.96910013 -11.19410013\n",
            " -11.41910013 -11.64410013 -11.86910013 -12.09410013 -12.31910013\n",
            " -12.54410013 -12.76910013 -12.99410013 -13.21910013 -13.44410013\n",
            " -13.66910013 -13.89410013 -14.11910013 -14.34410013 -14.56910013\n",
            " -14.79410013 -15.01910013 -15.24410013 -15.46910013 -15.69410013\n",
            " -15.91910013 -16.14410013 -16.36910013 -16.59410013 -16.81910013\n",
            " -17.04410013 -17.26910013 -17.49410013 -17.71910013 -17.94410013\n",
            " -18.16910013 -18.39410013 -18.61910013 -18.84410013 -19.06910013\n",
            " -19.29410013 -19.51910013 -19.74410013 -19.96910013 -20.19410013\n",
            " -20.41910013 -20.64410013 -20.86910013 -21.09410013 -21.31910013\n",
            " -21.54410013 -21.76910013 -21.99410013 -22.21910013 -22.44410013\n",
            " -22.66910013 -22.89410013 -23.11910013 -23.34410013 -23.56910013\n",
            " -23.79410013 -24.01910013 -24.24410013 -24.46910013 -24.69410013\n",
            " -24.91910013 -25.14410013 -25.36910013 -25.59410013 -25.81910013\n",
            " -26.04410013 -26.26910013 -26.49410013 -26.71910013 -26.94410013\n",
            " -27.16910013 -27.39410013 -27.61910013 -27.84410013 -28.06910013\n",
            " -28.29410013 -28.51910013 -28.74410013 -28.96910013] Daya Terima\n"
          ],
          "name": "stdout"
        }
      ]
    },
    {
      "cell_type": "code",
      "metadata": {
        "colab": {
          "base_uri": "https://localhost:8080/"
        },
        "id": "7QWfEFevwssc",
        "outputId": "9294027a-40a0-45b8-f669-839e775b9c91"
      },
      "source": [
        "def nilaialpha(disp_M,L,spektral):\r\n",
        "  t_mat=disp_M*L*spektral\r\n",
        "  t_wg=0\r\n",
        "  t_mod=0\r\n",
        "\r\n",
        "  t_sys=np.sqrt(t_tx**2+t_mat**2+t_mod**2+t_wg**2+t_rx**2)\r\n",
        "\r\n",
        "  return t_sys\r\n",
        "\r\n",
        "t_sys=nilaialpha(disp_M,L,spektral)\r\n",
        "print(t_sys,'\\n')\r\n"
      ],
      "execution_count": null,
      "outputs": [
        {
          "output_type": "stream",
          "text": [
            "[6.94631017e-11 6.94657470e-11 6.94701555e-11 6.94763269e-11\n",
            " 6.94842608e-11 6.94939566e-11 6.95054135e-11 6.95186306e-11\n",
            " 6.95336070e-11 6.95503415e-11 6.95688328e-11 6.95890796e-11\n",
            " 6.96110803e-11 6.96348332e-11 6.96603366e-11 6.96875886e-11\n",
            " 6.97165870e-11 6.97473297e-11 6.97798144e-11 6.98140387e-11\n",
            " 6.98500000e-11 6.98876956e-11 6.99271228e-11 6.99682785e-11\n",
            " 7.00111598e-11 7.00557635e-11 7.01020863e-11 7.01501247e-11\n",
            " 7.01998754e-11 7.02513345e-11 7.03044984e-11 7.03593633e-11\n",
            " 7.04159250e-11 7.04741797e-11 7.05341229e-11 7.05957506e-11\n",
            " 7.06590582e-11 7.07240412e-11 7.07906950e-11 7.08590150e-11\n",
            " 7.09289962e-11 7.10006338e-11 7.10739228e-11 7.11488580e-11\n",
            " 7.12254344e-11 7.13036465e-11 7.13834890e-11 7.14649564e-11\n",
            " 7.15480433e-11 7.16327439e-11 7.17190526e-11 7.18069635e-11\n",
            " 7.18964707e-11 7.19875684e-11 7.20802504e-11 7.21745107e-11\n",
            " 7.22703432e-11 7.23677414e-11 7.24666992e-11 7.25672102e-11\n",
            " 7.26692679e-11 7.27728658e-11 7.28779974e-11 7.29846559e-11\n",
            " 7.30928348e-11 7.32025273e-11 7.33137265e-11 7.34264258e-11\n",
            " 7.35406180e-11 7.36562964e-11 7.37734539e-11 7.38920835e-11\n",
            " 7.40121781e-11 7.41337305e-11 7.42567337e-11 7.43811804e-11\n",
            " 7.45070634e-11 7.46343755e-11 7.47631092e-11 7.48932574e-11\n",
            " 7.50248126e-11 7.51577674e-11 7.52921145e-11 7.54278463e-11\n",
            " 7.55649555e-11 7.57034345e-11 7.58432759e-11 7.59844721e-11\n",
            " 7.61270156e-11 7.62708988e-11 7.64161141e-11 7.65626541e-11\n",
            " 7.67105110e-11 7.68596773e-11 7.70101454e-11 7.71619077e-11\n",
            " 7.73149565e-11 7.74692842e-11 7.76248833e-11 7.77817459e-11\n",
            " 7.79398646e-11 7.80992318e-11 7.82598396e-11 7.84216807e-11\n",
            " 7.85847472e-11 7.87490317e-11 7.89145265e-11 7.90812241e-11\n",
            " 7.92491167e-11 7.94181969e-11 7.95884571e-11 7.97598897e-11\n",
            " 7.99324871e-11 8.01062420e-11 8.02811466e-11 8.04571936e-11\n",
            " 8.06343754e-11 8.08126846e-11 8.09921138e-11 8.11726555e-11\n",
            " 8.13543023e-11 8.15370468e-11 8.17208817e-11 8.19057996e-11\n",
            " 8.20917931e-11 8.22788551e-11 8.24669782e-11 8.26561552e-11\n",
            " 8.28463789e-11 8.30376421e-11 8.32299375e-11 8.34232581e-11\n",
            " 8.36175968e-11 8.38129465e-11 8.40093001e-11 8.42066506e-11\n",
            " 8.44049910e-11 8.46043143e-11 8.48046137e-11 8.50058821e-11\n",
            " 8.52081129e-11 8.54112990e-11 8.56154338e-11 8.58205104e-11\n",
            " 8.60265221e-11 8.62334622e-11 8.64413240e-11 8.66501010e-11\n",
            " 8.68597864e-11 8.70703738e-11 8.72818566e-11 8.74942284e-11\n",
            " 8.77074826e-11 8.79216128e-11] \n",
            "\n"
          ],
          "name": "stdout"
        }
      ]
    },
    {
      "cell_type": "code",
      "metadata": {
        "colab": {
          "base_uri": "https://localhost:8080/",
          "height": 312
        },
        "id": "5ZHd_5S_yPpm",
        "outputId": "ea2b528a-79c7-466c-dad1-d2850a8d1a6b"
      },
      "source": [
        "\r\n",
        "plt.plot(L,s1)\r\n",
        "plt.legend()\r\n",
        "plt.title('Kurva Link Power Budget')\r\n",
        "plt.xlabel('Jarak (km)')\r\n",
        "plt.ylabel('Daya terima (dB)')\r\n",
        "plt.show()"
      ],
      "execution_count": null,
      "outputs": [
        {
          "output_type": "stream",
          "text": [
            "No handles with labels found to put in legend.\n"
          ],
          "name": "stderr"
        },
        {
          "output_type": "display_data",
          "data": {
            "image/png": "[encoded data removed]",
            "text/plain": [
              "<Figure size 432x288 with 1 Axes>"
            ]
          },
          "metadata": {
            "tags": [],
            "needs_background": "light"
          }
        }
      ]
    },
    {
      "cell_type": "code",
      "metadata": {
        "colab": {
          "base_uri": "https://localhost:8080/",
          "height": 312
        },
        "id": "cDVcmWr_zxW3",
        "outputId": "8e43667d-4498-43f3-b99d-32eccdba42db"
      },
      "source": [
        "plt.plot(L,t_sys)\r\n",
        "plt.legend()\r\n",
        "plt.title('Rise Time Budget')\r\n",
        "plt.xlabel('Jarak (km)')\r\n",
        "plt.ylabel('Dispersi sistem (s)')\r\n",
        "plt.show()"
      ],
      "execution_count": null,
      "outputs": [
        {
          "output_type": "stream",
          "text": [
            "No handles with labels found to put in legend.\n"
          ],
          "name": "stderr"
        },
        {
          "output_type": "display_data",
          "data": {
            "image/png": "[encoded data removed]",
            "text/plain": [
              "<Figure size 432x288 with 1 Axes>"
            ]
          },
          "metadata": {
            "tags": [],
            "needs_background": "light"
          }
        }
      ]
    },
    {
      "cell_type": "code",
      "metadata": {
        "id": "tvBV1l68nWmr"
      },
      "source": [
        ""
      ],
      "execution_count": null,
      "outputs": []
    }
  ]
}