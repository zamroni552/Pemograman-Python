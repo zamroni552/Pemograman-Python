{
  "nbformat": 4,
  "nbformat_minor": 0,
  "metadata": {
    "colab": {
      "name": "SKO Grafik.ipynb",
      "provenance": [],
      "collapsed_sections": [],
      "authorship_tag": "ABX9TyM8+u9UoC9NfaKvyKBUMMQm",
      "include_colab_link": true
    },
    "kernelspec": {
      "name": "python3",
      "display_name": "Python 3"
    }
  },
  "cells": [
    {
      "cell_type": "markdown",
      "metadata": {
        "id": "view-in-github",
        "colab_type": "text"
      },
      "source": [
        "<a href=\"https://colab.research.google.com/github/zamroni552/Pemograman-Python/blob/main/SKO_Grafikficcc.ipynb\" target=\"_parent\"><img src=\"https://colab.research.google.com/assets/colab-badge.svg\" alt=\"Open In Colab\"/></a>"
      ]
    },
    {
      "cell_type": "code",
      "metadata": {
        "id": "RcIjDbv4v_Tz"
      },
      "source": [
        "from math import log10, sqrt\r\n",
        "import numpy as np\r\n",
        "import matplotlib.pyplot as plt\r\n",
        "\r\n"
      ],
      "execution_count": 102,
      "outputs": []
    },
    {
      "cell_type": "code",
      "metadata": {
        "id": "oX2WIs5owFx4"
      },
      "source": [
        "L=np.arange(1,93,1) #km\r\n",
        "Hspl=2 #km\r\n",
        "disp_M= 6e-12 #s/km.nm\r\n",
        "alpha_f=0.2 #dB/km"
      ],
      "execution_count": 103,
      "outputs": []
    },
    {
      "cell_type": "code",
      "metadata": {
        "id": "iVQxLuG3wXXy"
      },
      "source": [
        "Ptx=8 #mw\r\n",
        "Ptx_db= 10*log10(Ptx)\r\n",
        "spektral=0.1 #nm\r\n",
        "t_tx=6e-11 #s\r\n",
        "Mod_NRZ=0.7 #NRZ\r\n",
        "Mod_RZ=0.35 #RZ\r\n",
        "Br= 2.5e9 #2.5 Gbps\r\n",
        "Tb=1/Br #s"
      ],
      "execution_count": 104,
      "outputs": []
    },
    {
      "cell_type": "code",
      "metadata": {
        "id": "vopuzO2Rwga-"
      },
      "source": [
        "sensitivitas=-38\r\n",
        "t_rx=35e-12 #s"
      ],
      "execution_count": 105,
      "outputs": []
    },
    {
      "cell_type": "code",
      "metadata": {
        "id": "77tsFTu1wmXx"
      },
      "source": [
        "\r\n",
        "N_c=2\r\n",
        "alpha_c=0.2 #0.2 dB/titik\r\n",
        "N_sp=(L/Hspl)-1\r\n",
        "alpha_sp=0.05 #dB/titik\r\n",
        "Ms=3"
      ],
      "execution_count": 106,
      "outputs": []
    },
    {
      "cell_type": "code",
      "metadata": {
        "colab": {
          "base_uri": "https://localhost:8080/"
        },
        "id": "9vQ2e83hwpG2",
        "outputId": "00bd2c08-21a3-4fa8-df40-1cb4710dad93"
      },
      "source": [
        "def nilaialpha(N_c,alpha_c,N_sp,alpha_sp,L,alpha_f,Ms):\r\n",
        "  alpha_z=N_c*alpha_c+N_sp*alpha_sp+L*alpha_f+Ms\r\n",
        "  Prx=Ptx_db-alpha_z\r\n",
        "\r\n",
        "  return alpha_z,Prx\r\n",
        "\r\n",
        "s,s1=nilaialpha(N_c,alpha_c,N_sp,alpha_sp,L,alpha_f,Ms)\r\n",
        "\r\n",
        "print(\"Redaman Kabel\\n\",s,'\\n\\n')\r\n",
        "print(s1,'Daya Terima')\r\n"
      ],
      "execution_count": 107,
      "outputs": [
        {
          "output_type": "stream",
          "text": [
            "Redaman Kabel\n",
            " [ 3.575  3.8    4.025  4.25   4.475  4.7    4.925  5.15   5.375  5.6\n",
            "  5.825  6.05   6.275  6.5    6.725  6.95   7.175  7.4    7.625  7.85\n",
            "  8.075  8.3    8.525  8.75   8.975  9.2    9.425  9.65   9.875 10.1\n",
            " 10.325 10.55  10.775 11.    11.225 11.45  11.675 11.9   12.125 12.35\n",
            " 12.575 12.8   13.025 13.25  13.475 13.7   13.925 14.15  14.375 14.6\n",
            " 14.825 15.05  15.275 15.5   15.725 15.95  16.175 16.4   16.625 16.85\n",
            " 17.075 17.3   17.525 17.75  17.975 18.2   18.425 18.65  18.875 19.1\n",
            " 19.325 19.55  19.775 20.    20.225 20.45  20.675 20.9   21.125 21.35\n",
            " 21.575 21.8   22.025 22.25  22.475 22.7   22.925 23.15  23.375 23.6\n",
            " 23.825 24.05 ] \n",
            "\n",
            "\n",
            "[  5.45589987   5.23089987   5.00589987   4.78089987   4.55589987\n",
            "   4.33089987   4.10589987   3.88089987   3.65589987   3.43089987\n",
            "   3.20589987   2.98089987   2.75589987   2.53089987   2.30589987\n",
            "   2.08089987   1.85589987   1.63089987   1.40589987   1.18089987\n",
            "   0.95589987   0.73089987   0.50589987   0.28089987   0.05589987\n",
            "  -0.16910013  -0.39410013  -0.61910013  -0.84410013  -1.06910013\n",
            "  -1.29410013  -1.51910013  -1.74410013  -1.96910013  -2.19410013\n",
            "  -2.41910013  -2.64410013  -2.86910013  -3.09410013  -3.31910013\n",
            "  -3.54410013  -3.76910013  -3.99410013  -4.21910013  -4.44410013\n",
            "  -4.66910013  -4.89410013  -5.11910013  -5.34410013  -5.56910013\n",
            "  -5.79410013  -6.01910013  -6.24410013  -6.46910013  -6.69410013\n",
            "  -6.91910013  -7.14410013  -7.36910013  -7.59410013  -7.81910013\n",
            "  -8.04410013  -8.26910013  -8.49410013  -8.71910013  -8.94410013\n",
            "  -9.16910013  -9.39410013  -9.61910013  -9.84410013 -10.06910013\n",
            " -10.29410013 -10.51910013 -10.74410013 -10.96910013 -11.19410013\n",
            " -11.41910013 -11.64410013 -11.86910013 -12.09410013 -12.31910013\n",
            " -12.54410013 -12.76910013 -12.99410013 -13.21910013 -13.44410013\n",
            " -13.66910013 -13.89410013 -14.11910013 -14.34410013 -14.56910013\n",
            " -14.79410013 -15.01910013] Daya Terima\n"
          ],
          "name": "stdout"
        }
      ]
    },
    {
      "cell_type": "code",
      "metadata": {
        "colab": {
          "base_uri": "https://localhost:8080/"
        },
        "id": "7QWfEFevwssc",
        "outputId": "e138c514-a5f6-4c64-cf91-d2c0728c58c7"
      },
      "source": [
        "def nilaialpha(disp_M,L,spektral):\r\n",
        "  t_mat=disp_M*L*spektral\r\n",
        "  t_wg=0\r\n",
        "  t_mod=0\r\n",
        "\r\n",
        "  t_sys=np.sqrt(t_tx**2+t_mat**2+t_mod**2+t_wg**2+t_rx**2)\r\n",
        "\r\n",
        "  return t_sys\r\n",
        "\r\n",
        "t_sys=nilaialpha(disp_M,L,spektral)\r\n",
        "print(t_sys,'\\n')\r\n"
      ],
      "execution_count": 108,
      "outputs": [
        {
          "output_type": "stream",
          "text": [
            "[6.94648112e-11 6.94725845e-11 6.94855381e-11 6.95036690e-11\n",
            " 6.95269732e-11 6.95554455e-11 6.95890796e-11 6.96278680e-11\n",
            " 6.96718020e-11 6.97208721e-11 6.97750672e-11 6.98343755e-11\n",
            " 6.98987840e-11 6.99682785e-11 7.00428440e-11 7.01224643e-11\n",
            " 7.02071221e-11 7.02967994e-11 7.03914768e-11 7.04911342e-11\n",
            " 7.05957506e-11 7.07053039e-11 7.08197713e-11 7.09391288e-11\n",
            " 7.10633520e-11 7.11924153e-11 7.13262925e-11 7.14649564e-11\n",
            " 7.16083794e-11 7.17565328e-11 7.19093874e-11 7.20669134e-11\n",
            " 7.22290800e-11 7.23958562e-11 7.25672102e-11 7.27431096e-11\n",
            " 7.29235216e-11 7.31084126e-11 7.32977489e-11 7.34914961e-11\n",
            " 7.36896194e-11 7.38920835e-11 7.40988529e-11 7.43098917e-11\n",
            " 7.45251635e-11 7.47446319e-11 7.49682600e-11 7.51960105e-11\n",
            " 7.54278463e-11 7.56637298e-11 7.59036231e-11 7.61474885e-11\n",
            " 7.63952878e-11 7.66469830e-11 7.69025357e-11 7.71619077e-11\n",
            " 7.74250605e-11 7.76919558e-11 7.79625551e-11 7.82368200e-11\n",
            " 7.85147120e-11 7.87961928e-11 7.90812241e-11 7.93697675e-11\n",
            " 7.96617851e-11 7.99572386e-11 8.02560901e-11 8.05583019e-11\n",
            " 8.08638362e-11 8.11726555e-11 8.14847225e-11 8.18000000e-11\n",
            " 8.21184510e-11 8.24400388e-11 8.27647268e-11 8.30924786e-11\n",
            " 8.34232581e-11 8.37570296e-11 8.40937572e-11 8.44334057e-11\n",
            " 8.47759400e-11 8.51213252e-11 8.54695267e-11 8.58205104e-11\n",
            " 8.61742421e-11 8.65306882e-11 8.68898153e-11 8.72515902e-11\n",
            " 8.76159803e-11 8.79829529e-11 8.83524759e-11 8.87245175e-11] \n",
            "\n"
          ],
          "name": "stdout"
        }
      ]
    },
    {
      "cell_type": "code",
      "metadata": {
        "colab": {
          "base_uri": "https://localhost:8080/",
          "height": 294
        },
        "id": "5ZHd_5S_yPpm",
        "outputId": "6ff1641d-d299-441d-e3f9-a435a349055b"
      },
      "source": [
        "\r\n",
        "plt.plot(L,s1)\r\n",
        "\r\n",
        "plt.title('Kurva Link Power Budget')\r\n",
        "plt.xlabel('Jarak (km)')\r\n",
        "plt.ylabel('Daya terima (dB)')\r\n",
        "plt.show()"
      ],
      "execution_count": 109,
      "outputs": [
        {
          "output_type": "display_data",
          "data": {
            "image/png": "[encoded data removed]",
            "text/plain": [
              "<Figure size 432x288 with 1 Axes>"
            ]
          },
          "metadata": {
            "tags": [],
            "needs_background": "light"
          }
        }
      ]
    },
    {
      "cell_type": "code",
      "metadata": {
        "colab": {
          "base_uri": "https://localhost:8080/",
          "height": 294
        },
        "id": "cDVcmWr_zxW3",
        "outputId": "8a443721-3507-444f-cc1a-ee91b958a4b3"
      },
      "source": [
        "plt.plot(L,t_sys)\r\n",
        "\r\n",
        "plt.title('Rise Time Budget')\r\n",
        "plt.xlabel('Jarak (km)')\r\n",
        "plt.ylabel('Dispersi sistem (s)')\r\n",
        "plt.show()"
      ],
      "execution_count": 110,
      "outputs": [
        {
          "output_type": "display_data",
          "data": {
            "image/png": "[encoded data removed]",
            "text/plain": [
              "<Figure size 432x288 with 1 Axes>"
            ]
          },
          "metadata": {
            "tags": [],
            "needs_background": "light"
          }
        }
      ]
    },
    {
      "cell_type": "code",
      "metadata": {
        "id": "tvBV1l68nWmr"
      },
      "source": [
        ""
      ],
      "execution_count": 110,
      "outputs": []
    }
  ]
}